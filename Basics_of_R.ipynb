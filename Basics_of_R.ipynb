{
 "cells": [
  {
   "cell_type": "markdown",
   "id": "e20e854a-b0e7-45cf-8e19-ceca2c0075dd",
   "metadata": {},
   "source": [
    "## Variables in R"
   ]
  },
  {
   "cell_type": "code",
   "execution_count": 1,
   "id": "6852270d-6e39-4ee1-9046-cc6bd6754726",
   "metadata": {},
   "outputs": [
    {
     "data": {
      "text/html": [
       "'John'"
      ],
      "text/latex": [
       "'John'"
      ],
      "text/markdown": [
       "'John'"
      ],
      "text/plain": [
       "[1] \"John\""
      ]
     },
     "metadata": {},
     "output_type": "display_data"
    },
    {
     "name": "stdout",
     "output_type": "stream",
     "text": [
      "[1] \"John\"\n",
      "[1] 40\n"
     ]
    }
   ],
   "source": [
    "name <- \"John\"\n",
    "age <- 40\n",
    "name # auto-print the value of the name variable\n",
    "print(name) # you can also use print() function\n",
    "print(age)"
   ]
  },
  {
   "cell_type": "markdown",
   "id": "fdbdd11b-b709-469f-9e45-71582f663980",
   "metadata": {},
   "source": [
    "## Printing multiple things in a single print() call"
   ]
  },
  {
   "cell_type": "code",
   "execution_count": 2,
   "id": "541a9ead-6de6-4f3f-92e2-fb6180ec6f18",
   "metadata": {},
   "outputs": [
    {
     "name": "stdout",
     "output_type": "stream",
     "text": [
      "[1] \"Himanshu\" \"27\"      \n"
     ]
    }
   ],
   "source": [
    "name <- \"Himanshu\"\n",
    "age <- 27\n",
    "print(c(name,age))"
   ]
  },
  {
   "cell_type": "markdown",
   "id": "c4a26d20-33ab-4d12-bc5e-03fc8e775f47",
   "metadata": {},
   "source": [
    "## Note: c() function  might not give you desired results so use cat()"
   ]
  },
  {
   "cell_type": "code",
   "execution_count": 3,
   "id": "e536c180-0898-4c89-996e-a4779a35f711",
   "metadata": {},
   "outputs": [
    {
     "name": "stdout",
     "output_type": "stream",
     "text": [
      "Himanshu 27"
     ]
    }
   ],
   "source": [
    "cat(name,age) # this will directly print the result without needing print()"
   ]
  },
  {
   "cell_type": "markdown",
   "id": "940e2b96-111b-40fc-a753-678615931c1b",
   "metadata": {},
   "source": [
    "## Concatenate Elements"
   ]
  },
  {
   "cell_type": "code",
   "execution_count": 4,
   "id": "07062a2d-32dd-4b3b-9677-00fbbd074a01",
   "metadata": {},
   "outputs": [
    {
     "data": {
      "text/html": [
       "'R is awesome !!!'"
      ],
      "text/latex": [
       "'R is awesome !!!'"
      ],
      "text/markdown": [
       "'R is awesome !!!'"
      ],
      "text/plain": [
       "[1] \"R is awesome !!!\""
      ]
     },
     "metadata": {},
     "output_type": "display_data"
    }
   ],
   "source": [
    "text1 <- \"R is\"\n",
    "text2 <- \"awesome !!!\"\n",
    "\n",
    "paste(text1, text2)"
   ]
  },
  {
   "cell_type": "markdown",
   "id": "d4a67818-bb18-4bfa-8db9-efac5851a994",
   "metadata": {},
   "source": [
    "Here's a comparison between `cat()` and `paste()` in R, presented in a table format:\r\n",
    "\r\n",
    "| **Aspect**             | **`cat()`**                                                   | **`paste()`**                                                |\r\n",
    "|------------------------|---------------------------------------------------------------|--------------------------------------------------------------|\r\n",
    "| **Primary Purpose**     | Prints output directly to the console                         | Combines strings and returns the result as a character string |\r\n",
    "| **Return Value**        | `NULL`                                                        | A character string                                            |\r\n",
    "| **Default Separator**   | No separator (you need to explicitly add spaces)              | Adds a space between elements by default                      |\r\n",
    "| **Concatenation Example**| `cat(\"Alice\", 30)` → `Alice30`                               | `paste(\"Alice\", 30)` → `\"Alice 30\"`                           |\r\n",
    "| **Custom Separator**    | No direct option for separators (spaces manually added)       | Supports custom separators with the `sep` argument            |\r\n",
    "| **Custom Separator Example** | `cat(\"Alice-\", 30)` → `Alice-30`                         | `paste(\"Alice\", 30, sep=\"-\")` → `\"Alice-30\"`                  |\r\n",
    "| **Printing Behavior**   | Prints immediately, no need for `print()`                    | Returns a string, which can be printed with `print()`         |\r\n",
    "| **Usage in Files**      | Commonly used when writing to files or directly outputting text | Used when manipulating or formatting strings programmatically |\r\n",
    "| **Typical Use Case**    | Output results directly (e.g., logs, console output)          | Store or manipulate combined strings for later use            |\r\n",
    "\r\n",
    "This table should give you a clear overview of when to use `cat()` vs `paste()` based on your needs in R!"
   ]
  },
  {
   "cell_type": "markdown",
   "id": "42237548-091c-434a-bd2e-8928287c6f09",
   "metadata": {},
   "source": [
    "## Multiple Variables"
   ]
  },
  {
   "cell_type": "code",
   "execution_count": 5,
   "id": "f1a72304-a3bd-4f41-b9b5-e053f735c71d",
   "metadata": {},
   "outputs": [
    {
     "data": {
      "text/html": [
       "'Orange'"
      ],
      "text/latex": [
       "'Orange'"
      ],
      "text/markdown": [
       "'Orange'"
      ],
      "text/plain": [
       "[1] \"Orange\""
      ]
     },
     "metadata": {},
     "output_type": "display_data"
    },
    {
     "data": {
      "text/html": [
       "'Orange'"
      ],
      "text/latex": [
       "'Orange'"
      ],
      "text/markdown": [
       "'Orange'"
      ],
      "text/plain": [
       "[1] \"Orange\""
      ]
     },
     "metadata": {},
     "output_type": "display_data"
    },
    {
     "data": {
      "text/html": [
       "'Orange'"
      ],
      "text/latex": [
       "'Orange'"
      ],
      "text/markdown": [
       "'Orange'"
      ],
      "text/plain": [
       "[1] \"Orange\""
      ]
     },
     "metadata": {},
     "output_type": "display_data"
    }
   ],
   "source": [
    "var1 <- var2 <- var3 <- \"Orange\"\n",
    "\n",
    "# Print variable values\n",
    "var1\n",
    "var2\n",
    "var3"
   ]
  },
  {
   "cell_type": "markdown",
   "id": "644d2173-a394-4cb0-bc4b-80f68d22acc5",
   "metadata": {},
   "source": [
    "## Data type in R\n",
    "\n",
    "- numeric - (10.5, 55, 787)\r",
    "- \n",
    "integer - (1L, 55L, 100L, where the letter \"L\" declares this as an integer\n",
    "- complex - (9 + 3i, where \"i\" is the imaginary part)\n",
    "- character (a.k.a. string) - (\"k\", \"R is exciting\", \"FALSE\", \"11.5\")\n",
    "- logical (a.k.a. boolean) - (TRUE or FALSE)LSE)"
   ]
  },
  {
   "cell_type": "code",
   "execution_count": 6,
   "id": "7c0aea63-9988-4c57-8211-7aa09ecda205",
   "metadata": {},
   "outputs": [
    {
     "data": {
      "text/html": [
       "'numeric'"
      ],
      "text/latex": [
       "'numeric'"
      ],
      "text/markdown": [
       "'numeric'"
      ],
      "text/plain": [
       "[1] \"numeric\""
      ]
     },
     "metadata": {},
     "output_type": "display_data"
    },
    {
     "data": {
      "text/html": [
       "'integer'"
      ],
      "text/latex": [
       "'integer'"
      ],
      "text/markdown": [
       "'integer'"
      ],
      "text/plain": [
       "[1] \"integer\""
      ]
     },
     "metadata": {},
     "output_type": "display_data"
    },
    {
     "data": {
      "text/html": [
       "'complex'"
      ],
      "text/latex": [
       "'complex'"
      ],
      "text/markdown": [
       "'complex'"
      ],
      "text/plain": [
       "[1] \"complex\""
      ]
     },
     "metadata": {},
     "output_type": "display_data"
    },
    {
     "data": {
      "text/html": [
       "'character'"
      ],
      "text/latex": [
       "'character'"
      ],
      "text/markdown": [
       "'character'"
      ],
      "text/plain": [
       "[1] \"character\""
      ]
     },
     "metadata": {},
     "output_type": "display_data"
    },
    {
     "data": {
      "text/html": [
       "'logical'"
      ],
      "text/latex": [
       "'logical'"
      ],
      "text/markdown": [
       "'logical'"
      ],
      "text/plain": [
       "[1] \"logical\""
      ]
     },
     "metadata": {},
     "output_type": "display_data"
    }
   ],
   "source": [
    "# numeric\n",
    "x <- 10.5\n",
    "class(x)\n",
    "\n",
    "# integer\n",
    "x <- 1000L\n",
    "class(x)\n",
    "\n",
    "# complex\n",
    "x <- 9i + 3\n",
    "class(x)\n",
    "\n",
    "# character/string\n",
    "x <- \"R is exciting\"\n",
    "class(x)\n",
    "\n",
    "# logical/boolean\n",
    "x <- TRUE\n",
    "class(x)"
   ]
  },
  {
   "cell_type": "markdown",
   "id": "44a2d3ac-1fe9-4a52-8522-8c19035018fb",
   "metadata": {},
   "source": [
    "## Numbers in R\n",
    "There are three number types in R:\n",
    "\n",
    "- numeric\n",
    "- integer\n",
    "- complex"
   ]
  },
  {
   "cell_type": "code",
   "execution_count": 7,
   "id": "d476cf20-fdcf-49ce-b293-e19a8e28841b",
   "metadata": {},
   "outputs": [
    {
     "name": "stdout",
     "output_type": "stream",
     "text": [
      "The class of 10.5 is numeric \n",
      "The class of 10 is integer \n",
      "The class of 0+1i is complex \n"
     ]
    }
   ],
   "source": [
    "x <- 10.5   # numeric ->  This is a double (floating-point)\n",
    "y <- 10L    # integer\n",
    "z <- 1i     # complex\n",
    "cat(\"The class of\",x,\"is\",class(x),\"\\n\")\n",
    "cat(\"The class of\",y,\"is\",class(y),\"\\n\")\n",
    "cat(\"The class of\",z,\"is\",class(z),\"\\n\")"
   ]
  },
  {
   "cell_type": "markdown",
   "id": "f1617e3e-53a4-4f53-9a79-8633f4f395e5",
   "metadata": {},
   "source": [
    "## Type Conversion\n",
    "\n",
    "\n",
    "\r\n",
    "| **Conversion Type**          | **Syntax**                          | **Description**                                           | **Example**                          |\r\n",
    "|------------------------------|-------------------------------------|-----------------------------------------------------------|--------------------------------------|\r\n",
    "| **To Integer**               | `as.integer(x)`                     | Converts `x` to an integer.                               | `as.integer(3.8)` → `3`              |\r\n",
    "| **To Numeric (Double)**      | `as.numeric(x)`                     | Converts `x` to a numeric (double) type.                  | `as.numeric(\"4.56\")` → `4.56`        |\r\n",
    "| **To Character**             | `as.character(x)`                   | Converts `x` to a character string.                       | `as.character(123)` → `\"123\"`        |\r\n",
    "| **To Logical**               | `as.logical(x)`                     | Converts `x` to a logical (boolean: `TRUE` or `FALSE`).   | `as.logical(1)` → `TRUE`             |\r\n",
    "| **To Factor**                | `as.factor(x)`                      | Converts `x` to a factor (categorical variable).          | `as.factor(c(\"A\", \"B\", \"A\"))`       |\r\n",
    "| **To Date**                  | `as.Date(x, format)`                | Converts `x` to a date using the specified format.         | `as.Date(\"2024-10-02\")`             |\r\n",
    "| **To Time (POSIXct)**        | `as.POSIXct(x, format)`             | Converts `x` to date-time (POSIXct format).               | `as.POSIXct(\"2024-10-02 12:00:00\")` |\r\n",
    "| **To Matrix**                | `as.matrix(x)`                      | Converts `x` to a matrix.                                 | `as.matrix(1:9)` → 3x3 matrix        |\r\n",
    "| **To Data Frame**            | `as.data.frame(x)`                  | Converts `x` to a data frame.                             | `as.data.frame(matrix(1:4, 2, 2))`  |\r\n",
    "| **To List**                  | `as.list(x)`                        | Converts `x` to a list.                                   | `as.list(c(1, 2, 3))` → `list(1, 2, 3)` |\r\n",
    "| **To Complex**               | `as.complex(x)`                     | Converts `x` to a complex number.                         | `as.complex(5)` → `5+0i`            |\r\n",
    "\r\n",
    "This table now provides the type conversion syntax, description, and examples."
   ]
  },
  {
   "cell_type": "code",
   "execution_count": 8,
   "id": "f6fdff40-3fca-40c3-9575-c4cf9d8d59f6",
   "metadata": {},
   "outputs": [
    {
     "name": "stdout",
     "output_type": "stream",
     "text": [
      "The class of 10.5 is numeric \n",
      "The class of 10 is integer \n"
     ]
    }
   ],
   "source": [
    "a <- 10.5\n",
    "b <- as.integer(a) # Will remove any decimal part\n",
    "cat(\"The class of\",a,\"is\",class(a),\"\\n\")\n",
    "cat(\"The class of\",b,\"is\",class(b),\"\\n\")"
   ]
  },
  {
   "cell_type": "markdown",
   "id": "d9be9c92-129d-46b3-8943-efe4dce63091",
   "metadata": {},
   "source": [
    "## Built-in Math Functions\n",
    "\n",
    "| **Function**         | **Syntax**                   | **Description**                                            | **Example**                        |\n",
    "|----------------------|------------------------------|------------------------------------------------------------|------------------------------------|\n",
    "| **Addition**         | `+`                          | Adds two numbers.                                         | `5 + 3` → `8`                      |\n",
    "| **Subtraction**      | `-`                          | Subtracts the second number from the first.              | `5 - 2` → `3`                      |\n",
    "| **Multiplication**   | `*`                          | Multiplies two numbers.                                   | `4 * 3` → `12`                     |\n",
    "| **Division**         | `/`                          | Divides the first number by the second.                  | `10 / 2` → `5`                     |\n",
    "| **Exponentiation**   | `^`                          | Raises the first number to the power of the second.      | `2 ^ 3` → `8`                      |\n",
    "| **Square Root**      | `sqrt(x)`                   | Computes the square root of `x`.                          | `sqrt(16)` → `4`                   |\n",
    "| **Absolute Value**   | `abs(x)`                    | Returns the absolute value of `x`.                        | `abs(-5)` → `5`                    |\n",
    "| **Logarithm**        | `log(x, base)`              | Computes the logarithm of `x` with the specified base (default is `e`). | `log(100, 10)` → `2`               |\n",
    "| **Exponential**      | `exp(x)`                    | Returns the value of `e` raised to the power of `x`.     | `exp(1)` → `2.7183`                |\n",
    "| **Sine**             | `sin(x)`                    | Computes the sine of `x` (in radians).                   | `sin(pi/2)` → `1`                  |\n",
    "| **Cosine**           | `cos(x)`                    | Computes the cosine of `x` (in radians).                 | `cos(0)` → `1`                     |\n",
    "| **Tangent**          | `tan(x)`                    | Computes the tangent of `x` (in radians).                | `tan(pi/4)` → `1`                  |\n",
    "| **Minimum**          | `min(x, ...)`               | Returns the minimum value among its arguments.           | `min(3, 5, 1)` → `1`               |\n",
    "| **Maximum**          | `max(x, ...)`               | Returns the maximum value among its arguments.           | `max(3, 5, 1)` → `5`               |\n",
    "| **Mean**             | `mean(x)`                   | Computes the arithmetic mean of the values in `x`.       | `mean(c(1, 2, 3))` → `2`           |\n",
    "| **Median**           | `median(x)`                 | Computes the median of the values in `x`.                 | `median(c(1, 3, 2))` → `2`         |\n",
    "| **Variance**         | `var(x)`                    | Computes the variance of the values in `x`.               | `var(c(1, 2, 3))` → `1`            |\n",
    "| **Standard Deviation**| `sd(x)`                     | Computes the standard deviation of the values in `x`.     | `sd(c(1, 2, 3))` → `1`             |\n",
    "| **Sum**              | `sum(x)`                    | Computes the sum of the values in `x`.                    | `sum(c(1, 2, 3))` → `6`            |\n",
    "| **Product**          | `prod(x)`                   | Computes the product of the values in `x`.                | `prod(c(1, thematical function in R."
   ]
  },
  {
   "cell_type": "markdown",
   "id": "b1d95bde-754d-4aa5-ae7a-d08a3b06db55",
   "metadata": {},
   "source": [
    "## c()\n",
    "In R, c() is a fundamental function used to create vectors by combining individual elements into a single object. The letter c stands for \"combine\" or \"concatenate.\" This function is essential for data manipulation and analysis in R, as vectors are one of the most basic data structures in the language."
   ]
  },
  {
   "cell_type": "code",
   "execution_count": 9,
   "id": "99fadfea-2e75-4411-83f9-71f20cb06fd2",
   "metadata": {},
   "outputs": [
    {
     "data": {
      "text/html": [
       "2"
      ],
      "text/latex": [
       "2"
      ],
      "text/markdown": [
       "2"
      ],
      "text/plain": [
       "[1] 2"
      ]
     },
     "metadata": {},
     "output_type": "display_data"
    },
    {
     "data": {
      "text/html": [
       "'TRUE'"
      ],
      "text/latex": [
       "'TRUE'"
      ],
      "text/markdown": [
       "'TRUE'"
      ],
      "text/plain": [
       "[1] \"TRUE\""
      ]
     },
     "metadata": {},
     "output_type": "display_data"
    }
   ],
   "source": [
    "numeric_vector <- c(1, 2, 3, 4)          # Numeric vector\n",
    "character_vector <- c(\"a\", \"b\", \"c\")      # Character vector\n",
    "logical_vector <- c(TRUE, FALSE, TRUE)    # Logical vector\n",
    "mixed_vector <- c(1, \"a\", TRUE)  # Coerced to character: c(\"1\", \"a\", \"TRUE\")\n",
    "\n",
    "numeric_vector[2] # you can perform indexing on Numeric vector\n",
    "mixed_vector[3]\n",
    "\n",
    "# Note: The  index starts from \"1\" unlike other langauge where index starts from 0"
   ]
  },
  {
   "cell_type": "markdown",
   "id": "4a540f32-9599-4072-805b-324258870cd3",
   "metadata": {},
   "source": [
    "## ceiling() and floor()"
   ]
  },
  {
   "cell_type": "code",
   "execution_count": 10,
   "id": "1984421b-3a37-40a5-aef4-7ad1879a81e0",
   "metadata": {},
   "outputs": [
    {
     "data": {
      "text/html": [
       "2"
      ],
      "text/latex": [
       "2"
      ],
      "text/markdown": [
       "2"
      ],
      "text/plain": [
       "[1] 2"
      ]
     },
     "metadata": {},
     "output_type": "display_data"
    },
    {
     "data": {
      "text/html": [
       "1"
      ],
      "text/latex": [
       "1"
      ],
      "text/markdown": [
       "1"
      ],
      "text/plain": [
       "[1] 1"
      ]
     },
     "metadata": {},
     "output_type": "display_data"
    }
   ],
   "source": [
    "ceiling(1.4) # move up to the nearest Integer\n",
    "\n",
    "floor(1.4) # move down to the nearest Integer"
   ]
  },
  {
   "cell_type": "markdown",
   "id": "0f7dd399-a100-4925-a4a8-72971566368d",
   "metadata": {},
   "source": [
    "## String Literals\n",
    "A string is surrounded by either single quotation marks, or double quotation marks:\n",
    "\n",
    "\"hello\" is the same as 'hello':"
   ]
  },
  {
   "cell_type": "code",
   "execution_count": 11,
   "id": "d7fc8757-1e6c-475d-9700-7185e097f3f3",
   "metadata": {},
   "outputs": [
    {
     "data": {
      "text/html": [
       "'Hello'"
      ],
      "text/latex": [
       "'Hello'"
      ],
      "text/markdown": [
       "'Hello'"
      ],
      "text/plain": [
       "[1] \"Hello\""
      ]
     },
     "metadata": {},
     "output_type": "display_data"
    },
    {
     "name": "stdout",
     "output_type": "stream",
     "text": [
      "The Hello is of class = character"
     ]
    }
   ],
   "source": [
    "str <- \"Hello\"\n",
    "str # print the value of str\n",
    "cat(\"The\",str,\"is of class =\",class(str))"
   ]
  },
  {
   "cell_type": "markdown",
   "id": "c0315ebb-cc2c-4c01-9aba-d7bf1f2f57e9",
   "metadata": {},
   "source": [
    "### Multiline string"
   ]
  },
  {
   "cell_type": "code",
   "execution_count": 12,
   "id": "b0ff9b40-5882-483b-b6a6-b73b1e506c7f",
   "metadata": {},
   "outputs": [
    {
     "name": "stdout",
     "output_type": "stream",
     "text": [
      "Lorem ipsum dolor sit amet,\n",
      "consectetur adipiscing elit,\n",
      "sed do eiusmod tempor incididunt,\n",
      "ut labore et dolore magna aliqua. \n",
      "Lorem ipsum dolor sit amet,\n",
      "consectetur adipiscing elit,\n",
      "sed do eiusmod tempor incididunt,\n",
      "ut labore et dolore magna aliqua."
     ]
    }
   ],
   "source": [
    "str <- \"Lorem ipsum dolor sit amet,\n",
    "consectetur adipiscing elit,\n",
    "sed do eiusmod tempor incididunt,\n",
    "ut labore et dolore magna aliqua.\"\n",
    "\n",
    "cat(str,\"\\n\") # print the value of str\n",
    "\n",
    "new_str <- paste(\"Lorem ipsum dolor sit amet,\n",
    "consectetur adipiscing elit,\n",
    "sed do eiusmod tempor incididunt,\n",
    "ut labore et dolore magna aliqua.\",\n",
    "sep=\"\\n\")\n",
    "\n",
    "cat(new_str)"
   ]
  },
  {
   "cell_type": "markdown",
   "id": "a95516a5-7a95-4037-82a3-91d4335c6715",
   "metadata": {},
   "source": [
    "## String Functions in R\n",
    "In R, string manipulation is commonly done using several built-in functions and packages that provide various string operations. Here’s an overview of some commonly used string functions in R, along with their syntax and examples:\r\n",
    "\r\n",
    "### 1. **Basic String Functions**\r\n",
    "\r\n",
    "| Function      | Description                                               | Syntax                        | Example                                           |\r\n",
    "|---------------|-----------------------------------------------------------|-------------------------------|---------------------------------------------------|\r\n",
    "| `nchar()`     | Returns the number of characters in a string.           | `nchar(x)`                   | `nchar(\"Hello\")`  returns `5`.                    |\r\n",
    "| `toupper()`   | Converts a string to uppercase.                          | `toupper(x)`                 | `toupper(\"hello\")` returns `\"HELLO\"`.            |\r\n",
    "| `tolower()`   | Converts a string to lowercase.                          | `tolower(x)`                 | `tolower(\"HELLO\")` returns `\"hello\"`.            |\r\n",
    "| `trimws()`    | Removes leading and trailing whitespace from a string.   | `trimws(x)`                  | `trimws(\"  Hello  \")` returns `\"Hello\"`.         |\r\n",
    "| `sub()`       | Replaces the first match of a pattern in a string.      | `sub(pattern, replacement, x)` | `sub(\"world\", \"R\", \"Hello world\")` returns `\"Hello R\"`. |\r\n",
    "| `gsub()`      | Replaces all matches of a pattern in a string.          | `gsub(pattern, replacement, x)` | `gsub(\"l\", \"L\", \"Hello\")` returns `\"HelLo\"`.      |\r\n",
    "\r\n",
    "### 2. **String Splitting and Concatenation**\r\n",
    "\r\n",
    "| Function         | Description                                               | Syntax                               | Example                                           |\r\n",
    "|------------------|-----------------------------------------------------------|--------------------------------------|---------------------------------------------------|\r\n",
    "| `strsplit()`     | Splits a string into substrings based on a delimiter.    | `strsplit(x, split)`                | `strsplit(\"a,b,c\", \",\")` returns `list(\"a\", \"b\", \"c\")`. |\r\n",
    "| `paste()`        | Concatenates strings with a separator.                   | `paste(..., sep = \"separator\")`    | `paste(\"Hello\", \"World\", sep = \" \")` returns `\"Hello World\"`. |\r\n",
    "| `paste0()`       | Concatenates strings without a separator.                | `paste0(...)`                       | `paste0(\"Hello\", \"World\")` returns `\"HelloWorld\"`. |\r\n",
    "\r\n",
    "### 3. **String Extraction and Replacement**\r\n",
    "\r\n",
    "| Function         | Description                                               | Syntax                              | Example                                           |\r\n",
    "|------------------|-----------------------------------------------------------|-------------------------------------|---------------------------------------------------|\r\n",
    "| `substr()`       | Extracts a substring from a string.                      | `substr(x, start, stop)`           | `substr(\"Hello\", 1, 3)` returns `\"Hel\"`.         |\r\n",
    "| `str_sub()`      | Extracts a substring using the `stringr` package.       | `str_sub(string, start, end)`      | `library(stringr); str_sub(\"Hello\", 1, 3)` returns `\"Hel\"`. |\r\n",
    "| `stringr::str_replace()` | Replaces the first occurrence of a pattern.  | `str_replace(string, pattern, replacement)` | `str_replace(\"Hello world\", \"world\", \"R\")` returns `\"Hello R\"`. |\r\n",
    "| `stringr::str_replace_all()` | Replaces all occurrences of a pattern.  | `str_replace_all(string, pattern, replacement)` | `str_replace_all(\"Hello world\", \"o\", \"O\")` returns `\"HellO wOrld\"`. |\r\n",
    "\r\n",
    "### 4. **Pattern Matching and Regular Expressions**\r\n",
    "\r\n",
    "| Function      | Description                                               | Syntax                          | Example                                           |\r\n",
    "|---------------|-----------------------------------------------------------|---------------------------------|---------------------------------------------------|\r\n",
    "| `grep()`      | Searches for matches to a pattern in a character vector. | `grep(pattern, x)`             | `grep(\"a\", c(\"apple\", \"banana\"))` returns `1 2`. |\r\n",
    "| `grepl()`     | Returns `TRUE` or `FALSE` for matches to a pattern.     | `grepl(pattern, x)`            | `grepl(\"a\", c(\"apple\", \"banana\"))` returns `TRUE TRUE`. |\r\n",
    "| `regexpr()`   | Returns the position of the first match of a pattern.    | `regexpr(pattern, x)`          | `regexpr(\"a\", \"banana\")` returns `2`.            |\r\n",
    "| `gregexpr()`  | Returns positions of all matches of a pattern.           | `gregexpr(pattern, x)`         | `gregexpr(\"a\", \"banana\")` returns `list(2, 5)`.  |\r\n",
    "\r\n",
    "### 5. **Using the `stringr` Package**\r\n",
    "The `stringr` package provides additional functions for string manipulation with a consistent and user-friendly interface. To use `stringr`, you need to install and load the package:\r\n",
    "\r\n",
    "```r\r\n",
    "install.packages(\"stringr\")  # Install the package\r\n",
    "library(stringr)             # Load the package\r\n",
    "```\r\n",
    "\r\n",
    "**Example of `stringr` Functions**:\r\n",
    "```r\r\n",
    "str_length(\"Hello\")                      # Returns 5\r\n",
    "str_to_upper(\"hello\")                    # Returns \"HELLO\"\r\n",
    "str_c(\"Hello\", \"World\", sep = \" \")       # Returns \"Hello World\"\r\n",
    "str_split(\"a,b,c\", \",\"erface and additional functions for string manipulation."
   ]
  },
  {
   "cell_type": "code",
   "execution_count": 13,
   "id": "0fac53ab-1061-4054-80a0-66fc29055efe",
   "metadata": {},
   "outputs": [
    {
     "name": "stdout",
     "output_type": "stream",
     "text": [
      "Hello World!"
     ]
    },
    {
     "data": {
      "text/html": [
       "'Hello World!'"
      ],
      "text/latex": [
       "'Hello World!'"
      ],
      "text/markdown": [
       "'Hello World!'"
      ],
      "text/plain": [
       "[1] \"Hello World!\""
      ]
     },
     "metadata": {},
     "output_type": "display_data"
    }
   ],
   "source": [
    "str <- \"Hello World!\"\n",
    "\n",
    "cat(\"Hello\",\"World!\")\n",
    "paste(\"Hello\", \"World!\", sep = \" \")"
   ]
  },
  {
   "cell_type": "code",
   "execution_count": 14,
   "id": "3b4ba527-0dd8-419e-b58d-89f573eb8616",
   "metadata": {},
   "outputs": [
    {
     "data": {
      "text/html": [
       "TRUE"
      ],
      "text/latex": [
       "TRUE"
      ],
      "text/markdown": [
       "TRUE"
      ],
      "text/plain": [
       "[1] TRUE"
      ]
     },
     "metadata": {},
     "output_type": "display_data"
    },
    {
     "data": {
      "text/html": [
       "TRUE"
      ],
      "text/latex": [
       "TRUE"
      ],
      "text/markdown": [
       "TRUE"
      ],
      "text/plain": [
       "[1] TRUE"
      ]
     },
     "metadata": {},
     "output_type": "display_data"
    },
    {
     "data": {
      "text/html": [
       "FALSE"
      ],
      "text/latex": [
       "FALSE"
      ],
      "text/markdown": [
       "FALSE"
      ],
      "text/plain": [
       "[1] FALSE"
      ]
     },
     "metadata": {},
     "output_type": "display_data"
    }
   ],
   "source": [
    "str <- \"Hello World!\"\n",
    "\n",
    "grepl(\"H\", str)\n",
    "grepl(\"Hello\", str)\n",
    "grepl(\"X\", str)"
   ]
  },
  {
   "cell_type": "markdown",
   "id": "5c00954c-c032-4355-8191-e86e043a4d2e",
   "metadata": {},
   "source": [
    "In R, escape characters are used to represent special characters within strings. An escape character is denoted by a backslash (`\\`) followed by a specific character that indicates the type of special character you want to include.\n",
    "\n",
    "### Common Escape Characters in R:\n",
    "\n",
    "| **Escape Sequence** | **Description**                           | **Example**                          |\n",
    "|---------------------|-------------------------------------------|--------------------------------------|\n",
    "| `\\\\`                | Backslash                                  | `print(\"This is a backslash: \\\\\")` |\n",
    "| `\\'`                | Single quote                              | `print('It\\'s a sunny day.')`      |\n",
    "| `\\\"`                | Double quote                              | `print(\"He said, \\\"Hello!\\\"\")`     |\n",
    "| `\\n`                | New line                                  | `print(\"First line\\nSecond line\")` |\n",
    "| `\\t`                | Tab                                       | `print(\"Column1\\tColumn2\")`        |\n",
    "| `\\r`                | Carriage return                           | `print(\"Hello\\rWorld\")`             |\n",
    "| `\\b`                | Backspace (not widely supported)         |                                      |\n",
    "| `\\f`                | Form feed (not widely supported)         |                                      |\n",
    "| `\\a`                | Alert (bell) (not widely supported)      |                                      |\n",
    "| `\\v`                | Vertical tab (not widely supported)      |                                      |"
   ]
  },
  {
   "cell_type": "markdown",
   "id": "82cf1fae-3f08-4bd3-9f59-e6146979f1b6",
   "metadata": {},
   "source": [
    "# Boolean (Logical Values)"
   ]
  },
  {
   "cell_type": "code",
   "execution_count": 15,
   "id": "6086b589-bb5f-4e1b-9af8-40b75c12c4e4",
   "metadata": {},
   "outputs": [
    {
     "data": {
      "text/html": [
       "TRUE"
      ],
      "text/latex": [
       "TRUE"
      ],
      "text/markdown": [
       "TRUE"
      ],
      "text/plain": [
       "[1] TRUE"
      ]
     },
     "metadata": {},
     "output_type": "display_data"
    },
    {
     "data": {
      "text/html": [
       "FALSE"
      ],
      "text/latex": [
       "FALSE"
      ],
      "text/markdown": [
       "FALSE"
      ],
      "text/plain": [
       "[1] FALSE"
      ]
     },
     "metadata": {},
     "output_type": "display_data"
    },
    {
     "data": {
      "text/html": [
       "FALSE"
      ],
      "text/latex": [
       "FALSE"
      ],
      "text/markdown": [
       "FALSE"
      ],
      "text/plain": [
       "[1] FALSE"
      ]
     },
     "metadata": {},
     "output_type": "display_data"
    }
   ],
   "source": [
    "10 > 9    # TRUE because 10 is greater than 9\n",
    "10 == 9   # FALSE because 10 is not equal to 9\n",
    "10 < 9    # FALSE because 10 is greater than 9"
   ]
  },
  {
   "cell_type": "markdown",
   "id": "136aaec2-1ce9-4d6d-93c4-e967911f2943",
   "metadata": {},
   "source": [
    "## Boolean Logic In String\n",
    "\n",
    "| **Aspect**                 | **Operator**   | **Description**                                       | **Example**                                           | **Output**               |\n",
    "|----------------------------|----------------|-------------------------------------------------------|-------------------------------------------------------|--------------------------|\n",
    "| **String Equality**        | `==`           | Checks if two strings are equal                       | `\"Hello\" == \"Hello\"`                                  | `TRUE`                   |\n",
    "| **String Inequality**      | `!=`           | Checks if two strings are not equal                   | `\"Hello\" != \"World\"`                                  | `TRUE`                   |\n",
    "| **Logical AND**            | `&`            | Returns `TRUE` if both conditions are true            | `(\"Hello\" == \"Hello\") & (\"World\" == \"World\")`       | `TRUE`                   |\n",
    "| **Logical OR**             | `\\|`            | Returns `TRUE` if at least one condition is true      | `(\"Hello\" == \"World\")` \\| `(\"Hello\" == \"Hello\")`      | `TRUE`                   |\n",
    "| **Logical NOT**            | `!`            | Negates the logical value                              | `!(\"Hello\" == \"World\")`                               | `TRUE`                   |\n",
    "| **Element-wise Comparison** | `==`           | Compares elements of two vectors of strings           | `c(\"Apple\", \"Banana\") == c(\"Apple\", \"Mango\")`       | `TRUE FALSE`             |"
   ]
  },
  {
   "cell_type": "markdown",
   "id": "46cbea45-07a8-4671-b1ed-5b10b3ba518b",
   "metadata": {},
   "source": [
    "## Arithmetic operators in R\n",
    "In R, arithmetic operators are used to perform mathematical calculations. Here’s a table summarizing the common arithmetic operators, their descriptions, and examples of usage:\n",
    "\n",
    "| **Operator** | **Description**                | **Example**                 | **Output**      |\n",
    "|--------------|--------------------------------|-----------------------------|------------------|\n",
    "| `+`          | Addition                       | `3 + 5`                     | `8`              |\n",
    "| `-`          | Subtraction                    | `10 - 4`                   | `6`              |\n",
    "| `*`          | Multiplication                 | `6 * 7`                    | `42`             |\n",
    "| `/`          | Division                       | `20 / 4`                   | `5`              |\n",
    "| `^`          | Exponentiation                 | `2 ^ 3`                    | `8`              |\n",
    "| `%%`         | Modulus (remainder)           | `10 %% 3`                  | `1`              |\n",
    "| `%/%`        | Integer division (floor)      | `10 %/% 3`                 | `3`              |"
   ]
  },
  {
   "cell_type": "code",
   "execution_count": 16,
   "id": "23788c10-8f84-46a7-bb0e-6c4f1b207684",
   "metadata": {},
   "outputs": [
    {
     "data": {
      "text/html": [
       "1"
      ],
      "text/latex": [
       "1"
      ],
      "text/markdown": [
       "1"
      ],
      "text/plain": [
       "[1] 1"
      ]
     },
     "metadata": {},
     "output_type": "display_data"
    }
   ],
   "source": [
    "11%%2 # modulus"
   ]
  },
  {
   "cell_type": "code",
   "execution_count": 17,
   "id": "6725b70c-e2b3-48c6-867b-57679ebec564",
   "metadata": {},
   "outputs": [
    {
     "data": {
      "text/html": [
       "5"
      ],
      "text/latex": [
       "5"
      ],
      "text/markdown": [
       "5"
      ],
      "text/plain": [
       "[1] 5"
      ]
     },
     "metadata": {},
     "output_type": "display_data"
    }
   ],
   "source": [
    "11%/%2 # Integer Division"
   ]
  },
  {
   "cell_type": "markdown",
   "id": "217193fb-aa22-4ef8-9318-aaf3547f8703",
   "metadata": {},
   "source": [
    "# R Logical Operators\n",
    "\n",
    "Logical operators are used to combine conditional statements:\n",
    "\n",
    "| **Operator** | **Description**                                                                                   |\n",
    "|--------------|---------------------------------------------------------------------------------------------------|\n",
    "| &            | Element-wise Logical AND operator. Returns TRUE if both elements are TRUE.                       |\n",
    "| &&           | Logical AND operator. Returns TRUE if both statements are TRUE.                                  |\n",
    "| \\|           | Element-wise Logical OR operator. Returns TRUE if one of the statements is TRUE.                 |\n",
    "| \\|\\|         | Logical OR operator. Returns TRUE if one of the statements is TRUE.                             |\n",
    "| !            | Logical NOT operator. Returns FALSE if the statement is TRUE.                                    |\n",
    "\n",
    "* Use | when you want to compare each element in a vector (element-wise).\n",
    "* Use || when you are only concerned with the first element and want to short-circuit the evaluation."
   ]
  },
  {
   "cell_type": "markdown",
   "id": "5c92a02b-c938-4c58-a629-8c902a370467",
   "metadata": {},
   "source": [
    "## If - Else if - Else statement"
   ]
  },
  {
   "cell_type": "code",
   "execution_count": 18,
   "id": "8f1ddd66-6bb0-489e-9d9e-5851eccc1f3b",
   "metadata": {},
   "outputs": [
    {
     "name": "stdout",
     "output_type": "stream",
     "text": [
      "[1] \"a and b are equal\"\n"
     ]
    }
   ],
   "source": [
    "a <- 200\n",
    "b <- 200\n",
    "\n",
    "if (b > a) {\n",
    "  print(\"b is greater than a\")\n",
    "} else if (a == b) {\n",
    "  print(\"a and b are equal\")\n",
    "} else {\n",
    "  print(\"a is greater than b\")\n",
    "}"
   ]
  },
  {
   "cell_type": "code",
   "execution_count": 19,
   "id": "693a25e7-03f4-4b88-8ac0-7865049bffe5",
   "metadata": {},
   "outputs": [
    {
     "name": "stdout",
     "output_type": "stream",
     "text": [
      "[1] \"Both conditions are true\"\n"
     ]
    }
   ],
   "source": [
    "a <- 200\n",
    "b <- 33\n",
    "c <- 500\n",
    "\n",
    "if (a > b & c > a) {\n",
    "  print(\"Both conditions are true\")\n",
    "}"
   ]
  },
  {
   "cell_type": "code",
   "execution_count": 20,
   "id": "f607253a-de06-47bc-ac9f-90da74474016",
   "metadata": {},
   "outputs": [
    {
     "name": "stdout",
     "output_type": "stream",
     "text": [
      "[1] \"At least one of the conditions is true\"\n"
     ]
    }
   ],
   "source": [
    "a <- 200\n",
    "b <- 33\n",
    "c <- 500\n",
    "\n",
    "if (a > b | a > c) {\n",
    "  print(\"At least one of the conditions is true\")\n",
    "}"
   ]
  },
  {
   "cell_type": "markdown",
   "id": "aed2f7dd-8616-4f61-b024-8c8421de711b",
   "metadata": {},
   "source": [
    "## While loop"
   ]
  },
  {
   "cell_type": "code",
   "execution_count": 21,
   "id": "11b05dc1-8060-4e8b-b2cc-6cbbd4b75d93",
   "metadata": {},
   "outputs": [
    {
     "name": "stdout",
     "output_type": "stream",
     "text": [
      "[1] 1\n",
      "[1] 2\n",
      "[1] 3\n"
     ]
    }
   ],
   "source": [
    "i <- 1\n",
    "while (i < 6) {\n",
    "  print(i)\n",
    "  i <- i + 1\n",
    "  if (i == 4) {\n",
    "    break\n",
    "  }\n",
    "}"
   ]
  },
  {
   "cell_type": "markdown",
   "id": "49ee998f-7330-4071-ba65-d41d209c635b",
   "metadata": {},
   "source": [
    "## Next\n",
    "With the next statement, we can skip an iteration without terminating the loop:"
   ]
  },
  {
   "cell_type": "code",
   "execution_count": 22,
   "id": "c3e06a9c-edde-472a-896a-f010317de0d3",
   "metadata": {},
   "outputs": [
    {
     "name": "stdout",
     "output_type": "stream",
     "text": [
      "[1] 1\n",
      "[1] 2\n",
      "[1] 4\n",
      "[1] 5\n",
      "[1] 6\n"
     ]
    }
   ],
   "source": [
    "i <- 0\n",
    "while (i < 6) {\n",
    "  i <- i + 1\n",
    "  if (i == 3) {\n",
    "    next\n",
    "  }\n",
    "  print(i)\n",
    "}"
   ]
  },
  {
   "cell_type": "markdown",
   "id": "ccc18efe-0dcb-4c0b-bd3b-d46e3dbe2d0c",
   "metadata": {},
   "source": [
    "## For Loops\n",
    "Note: Both upper and lower bounds are included"
   ]
  },
  {
   "cell_type": "code",
   "execution_count": 23,
   "id": "2ff727ed-b831-4fb9-a032-56d37a0cf052",
   "metadata": {},
   "outputs": [
    {
     "name": "stdout",
     "output_type": "stream",
     "text": [
      "[1] 1\n",
      "[1] 2\n",
      "[1] 3\n",
      "[1] 4\n",
      "[1] 5\n",
      "[1] 6\n",
      "[1] 7\n",
      "[1] 8\n",
      "[1] 9\n",
      "[1] 10\n"
     ]
    }
   ],
   "source": [
    "for (x in 1:10) {\n",
    "  print(x)\n",
    "}"
   ]
  },
  {
   "cell_type": "code",
   "execution_count": 24,
   "id": "b04e4cb8-4ebf-4a16-b24c-03493a7f2431",
   "metadata": {},
   "outputs": [
    {
     "name": "stdout",
     "output_type": "stream",
     "text": [
      "[1] \"apple\"\n",
      "[1] \"banana\"\n",
      "[1] \"cherry\"\n"
     ]
    }
   ],
   "source": [
    "fruits <- list(\"apple\", \"banana\", \"cherry\")\n",
    "\n",
    "for (x in fruits) {\n",
    "  print(x)\n",
    "}"
   ]
  },
  {
   "cell_type": "markdown",
   "id": "b599a3b7-7170-4a23-ab10-9d2a59d7cf41",
   "metadata": {},
   "source": [
    "## String Traversing"
   ]
  },
  {
   "cell_type": "code",
   "execution_count": 25,
   "id": "38837bb7-7903-4c97-b19f-6d4f9ec0bf3c",
   "metadata": {},
   "outputs": [
    {
     "name": "stdout",
     "output_type": "stream",
     "text": [
      "[1] \"H\"\n",
      "[1] \"e\"\n",
      "[1] \"l\"\n",
      "[1] \"l\"\n",
      "[1] \"o\"\n"
     ]
    }
   ],
   "source": [
    "# Method 1\n",
    "str <- \"Hello\"\n",
    "\n",
    "# Traverse the string using a for loop\n",
    "for (char in strsplit(str, NULL)[[1]]) {\n",
    "    print(char)\n",
    "}"
   ]
  },
  {
   "cell_type": "code",
   "execution_count": 26,
   "id": "8adf94d0-9814-40e7-b541-5ea669308427",
   "metadata": {},
   "outputs": [
    {
     "name": "stdout",
     "output_type": "stream",
     "text": [
      "[1] \"W\"\n",
      "[1] \"o\"\n",
      "[1] \"r\"\n",
      "[1] \"l\"\n",
      "[1] \"d\"\n"
     ]
    }
   ],
   "source": [
    "# Method 2\n",
    "str <- \"World\"\n",
    "\n",
    "# Traverse the string using indices\n",
    "for (i in 1:nchar(str)) {\n",
    "    print(substr(str, i, i)) # <string,start,end>\n",
    "}"
   ]
  },
  {
   "cell_type": "markdown",
   "id": "a30935b9-f55e-4469-8b78-e3899708f978",
   "metadata": {},
   "source": [
    "## substr()\n",
    "The `substr()` function in base R is used to extract or replace substrings from a character vector. It’s a straightforward and efficient tool for basic substring operations, available without needing any additional package installation.\r\n",
    "\r\n",
    "### **Syntax**\r\n",
    "```r\r\n",
    "substr(x, start, stop)\r\n",
    "```\r\n",
    "\r\n",
    "- **x**: A character vector (string).\r\n",
    "- **start**: The starting position of the substring (1-based indexing).\r\n",
    "- **stop**: The ending position of the substring (inclusive).\r\n",
    "\r\n",
    "### **Usage Examples**\r\n",
    "\r\n",
    "#### 1. Extracting Substring:\r\n",
    "```r\r\n",
    "text <- \"Hello World\"\r\n",
    "# Extract characters from position 1 to 5\r\n",
    "result <- substr(text, 1, 5)\r\n",
    "print(result)  # Output: \"Hello\"\r\n",
    "```\r\n",
    "\r\n",
    "#### 2. Replacing Substring:\r\n",
    "You can also modify parts of a string by assigning new values to a specific range.\r\n",
    "\r\n",
    "```r\r\n",
    "text <- \"Hello World\"\r\n",
    "# Replace characters from position 7 to 11\r\n",
    "substr(text, 7, 11) <- \"Universe\"\r\n",
    "print(text)  # Output: \"Hello Universe\"\r\n",
    "```\r\n",
    "\r\n",
    "### **Important Points**\r\n",
    "1. **1-based Indexing**: Indexing in R starts at 1, meaning the first character of a string is at position 1.\r\n",
    "2. **Inclusive `stop`**: The `stop` argument is inclusive, meaning it includes the character at the specified position.\r\n",
    "3. **Cannot Handle Negative Indexing**: Unlike `str_sub()` from the `stringr` package, `substr()` does not support negative indices for counting from the end of the string.\r\n",
    "4. **Vectorized**: It can be applied to vectors of strings. If `x` is a vector, `substr()` will extract/replace substrings for each element of the vector.\r\n",
    "\r\n",
    "#### 3. Working with Vectors:\r\n",
    "```r\r\n",
    "texts <- c(\"apple\", \"banana\", \"cherry\")\r\n",
    "# Extract first 3 characters from each string\r\n",
    "result <- substr(texts, 1, 3)\r\n",
    "print(result)  # Output: \"app\" \"ban\" \"che\"\r\n",
    "```\r\n",
    "\r\n",
    "### **Limitations**\r\n",
    "- **No Negative Indexing**: You can't use negative values for `start` and `stop` to index from the end.\r\n",
    "- **Fixed Length**: You cannot extract substrings based on dynamic conditions (e.g., \"uts `str_sub()` function might be more appropriate."
   ]
  },
  {
   "cell_type": "code",
   "execution_count": 27,
   "id": "e83ae3ab-d481-45b2-bd7b-0b5d3c2bf0ac",
   "metadata": {},
   "outputs": [
    {
     "name": "stdout",
     "output_type": "stream",
     "text": [
      "[1] \"Hello\"\n"
     ]
    }
   ],
   "source": [
    "text <- \"Hello World\"\n",
    "# Extract characters from position 1 to 5\n",
    "result <- substr(text, 1, 5)\n",
    "print(result)  # Output: \"Hello\""
   ]
  },
  {
   "cell_type": "markdown",
   "id": "543cf121-a05c-4e9a-84c5-1909070ad47f",
   "metadata": {},
   "source": [
    "## Functions In R\n"
   ]
  },
  {
   "cell_type": "code",
   "execution_count": 28,
   "id": "eac47668-540a-4b58-824a-9ec3add0843b",
   "metadata": {},
   "outputs": [
    {
     "data": {
      "text/html": [
       "'Peter Griffin'"
      ],
      "text/latex": [
       "'Peter Griffin'"
      ],
      "text/markdown": [
       "'Peter Griffin'"
      ],
      "text/plain": [
       "[1] \"Peter Griffin\""
      ]
     },
     "metadata": {},
     "output_type": "display_data"
    },
    {
     "data": {
      "text/html": [
       "'Lois Griffin'"
      ],
      "text/latex": [
       "'Lois Griffin'"
      ],
      "text/markdown": [
       "'Lois Griffin'"
      ],
      "text/plain": [
       "[1] \"Lois Griffin\""
      ]
     },
     "metadata": {},
     "output_type": "display_data"
    },
    {
     "data": {
      "text/html": [
       "'Stewie Griffin'"
      ],
      "text/latex": [
       "'Stewie Griffin'"
      ],
      "text/markdown": [
       "'Stewie Griffin'"
      ],
      "text/plain": [
       "[1] \"Stewie Griffin\""
      ]
     },
     "metadata": {},
     "output_type": "display_data"
    }
   ],
   "source": [
    "my_function <- function(fname) {\n",
    "  paste(fname, \"Griffin\")\n",
    "}\n",
    "\n",
    "my_function(\"Peter\")\n",
    "my_function(\"Lois\")\n",
    "my_function(\"Stewie\")"
   ]
  },
  {
   "cell_type": "markdown",
   "id": "a6d881db-8569-463a-84c9-8ac2228bb10f",
   "metadata": {},
   "source": [
    "## Default Parameter Value"
   ]
  },
  {
   "cell_type": "code",
   "execution_count": 29,
   "id": "97249cce-7ac6-457a-b935-4554af94437e",
   "metadata": {},
   "outputs": [
    {
     "data": {
      "text/html": [
       "'I am from Sweden'"
      ],
      "text/latex": [
       "'I am from Sweden'"
      ],
      "text/markdown": [
       "'I am from Sweden'"
      ],
      "text/plain": [
       "[1] \"I am from Sweden\""
      ]
     },
     "metadata": {},
     "output_type": "display_data"
    },
    {
     "data": {
      "text/html": [
       "'I am from India'"
      ],
      "text/latex": [
       "'I am from India'"
      ],
      "text/markdown": [
       "'I am from India'"
      ],
      "text/plain": [
       "[1] \"I am from India\""
      ]
     },
     "metadata": {},
     "output_type": "display_data"
    },
    {
     "data": {
      "text/html": [
       "'I am from Norway'"
      ],
      "text/latex": [
       "'I am from Norway'"
      ],
      "text/markdown": [
       "'I am from Norway'"
      ],
      "text/plain": [
       "[1] \"I am from Norway\""
      ]
     },
     "metadata": {},
     "output_type": "display_data"
    },
    {
     "data": {
      "text/html": [
       "'I am from USA'"
      ],
      "text/latex": [
       "'I am from USA'"
      ],
      "text/markdown": [
       "'I am from USA'"
      ],
      "text/plain": [
       "[1] \"I am from USA\""
      ]
     },
     "metadata": {},
     "output_type": "display_data"
    }
   ],
   "source": [
    "my_function <- function(country = \"Norway\") {\n",
    "  paste(\"I am from\", country)\n",
    "}\n",
    "\n",
    "my_function(\"Sweden\")\n",
    "my_function(\"India\")\n",
    "my_function() # will get the default value, which is Norway\n",
    "my_function(\"USA\")"
   ]
  },
  {
   "cell_type": "markdown",
   "id": "b9492d6c-daf6-4671-acd2-752029837e27",
   "metadata": {},
   "source": [
    "## Return Values"
   ]
  },
  {
   "cell_type": "code",
   "execution_count": 30,
   "id": "6c545a63-8a02-4f19-9af7-b888300b8964",
   "metadata": {},
   "outputs": [
    {
     "name": "stdout",
     "output_type": "stream",
     "text": [
      "[1] 15\n",
      "[1] 25\n",
      "[1] 45\n"
     ]
    }
   ],
   "source": [
    "my_function <- function(x) {\n",
    "  return (5 * x)\n",
    "}\n",
    "\n",
    "print(my_function(3))\n",
    "print(my_function(5))\n",
    "print(my_function(9))"
   ]
  },
  {
   "cell_type": "markdown",
   "id": "c0d9b31c-7e1d-4043-9cae-751b4022424c",
   "metadata": {},
   "source": [
    "## Nested Functions\n",
    "There are two ways to create a nested function:\n",
    "\n",
    "* Call a function within another function.\n",
    "* Write a function within a function."
   ]
  },
  {
   "cell_type": "code",
   "execution_count": 31,
   "id": "2988fe09-d7ba-4989-9bb6-782174b806e0",
   "metadata": {},
   "outputs": [
    {
     "data": {
      "text/html": [
       "10"
      ],
      "text/latex": [
       "10"
      ],
      "text/markdown": [
       "10"
      ],
      "text/plain": [
       "[1] 10"
      ]
     },
     "metadata": {},
     "output_type": "display_data"
    }
   ],
   "source": [
    "# Call a function within another function:\n",
    "\n",
    "Nested_function <- function(x, y) {\n",
    "  a <- x + y\n",
    "  return(a)\n",
    "}\n",
    "\n",
    "Nested_function(Nested_function(2,2), Nested_function(3,3))"
   ]
  },
  {
   "cell_type": "code",
   "execution_count": 32,
   "id": "db9f87d0-ee60-46d3-b7e5-0174a2704ad1",
   "metadata": {},
   "outputs": [
    {
     "data": {
      "text/html": [
       "25"
      ],
      "text/latex": [
       "25"
      ],
      "text/markdown": [
       "25"
      ],
      "text/plain": [
       "[1] 25"
      ]
     },
     "metadata": {},
     "output_type": "display_data"
    }
   ],
   "source": [
    "# Write a function within a function:\n",
    "\n",
    "Outer_func <- function(x,z) {\n",
    "  Inner_func <- function(y) {\n",
    "    a <- (x + z)*y\n",
    "    return(a)\n",
    "  }\n",
    "  return (Inner_func)\n",
    "}\n",
    "output <- Outer_func(3,2) # To call the Outer_func\n",
    "output(5)  # Calling the returned Inner_func with argument 5\n",
    "\n",
    "# (3+2)*5 = 25"
   ]
  },
  {
   "cell_type": "markdown",
   "id": "51388680-ecd2-412d-a5bb-0b43f9b3eb8b",
   "metadata": {},
   "source": [
    "# The Global Assignment Operator\n",
    "Normally, when you create a variable inside a function, that variable is local, and can only be used inside that function.\n",
    "\n",
    "To create a global variable inside a function, you can use the global assignment operator <<-"
   ]
  },
  {
   "cell_type": "code",
   "execution_count": 33,
   "id": "bed7f732-bb56-4261-9131-63ecfdfb9b3e",
   "metadata": {},
   "outputs": [
    {
     "data": {
      "text/html": [
       "'R is fantastic'"
      ],
      "text/latex": [
       "'R is fantastic'"
      ],
      "text/markdown": [
       "'R is fantastic'"
      ],
      "text/plain": [
       "[1] \"R is fantastic\""
      ]
     },
     "metadata": {},
     "output_type": "display_data"
    },
    {
     "name": "stdout",
     "output_type": "stream",
     "text": [
      "[1] \"fantastic\"\n"
     ]
    }
   ],
   "source": [
    "my_function <- function() {\n",
    "txt <<- \"fantastic\"\n",
    "  paste(\"R is\", txt)\n",
    "}\n",
    "\n",
    "my_function()\n",
    "\n",
    "print(txt) # txt variable is called outside the function"
   ]
  }
 ],
 "metadata": {
  "kernelspec": {
   "display_name": "R",
   "language": "R",
   "name": "ir"
  },
  "language_info": {
   "codemirror_mode": "r",
   "file_extension": ".r",
   "mimetype": "text/x-r-source",
   "name": "R",
   "pygments_lexer": "r",
   "version": "3.6.1"
  }
 },
 "nbformat": 4,
 "nbformat_minor": 5
}
